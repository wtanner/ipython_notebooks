{
 "metadata": {
  "name": ""
 },
 "nbformat": 3,
 "nbformat_minor": 0,
 "worksheets": [
  {
   "cells": [
    {
     "cell_type": "raw",
     "metadata": {},
     "source": [
      "The following is an implementation of 3GPP TS 26.226 V11, Cellular Text Telephone Modem (CTM). This standard defines a means of communicating text reliably over the existing speech circuits of cellular telephone systems. It is meant to work in alongside speech communications, such that both can be transmitted over the same circuit."
     ]
    },
    {
     "cell_type": "code",
     "collapsed": false,
     "input": [
      "import numpy\n",
      "import numpy.random\n",
      "import math\n",
      "import Queue\n",
      "\n",
      "import matplotlib.pyplot as plt\n",
      "%matplotlib inline"
     ],
     "language": "python",
     "metadata": {},
     "outputs": [],
     "prompt_number": 1
    },
    {
     "cell_type": "raw",
     "metadata": {},
     "source": [
      "Incoming data to be transmitted is in UTF-8. This is converted to bits and then added to a data queue. The input unicode string must first be decomposed into a list of bits."
     ]
    },
    {
     "cell_type": "code",
     "collapsed": false,
     "input": [
      "def utf8_to_binlist(unicode_string):\n",
      "    binlist = []\n",
      "\n",
      "    for c in unicode_string:\n",
      "        num = ord(c)\n",
      "        \n",
      "        # create a place to hold the representation of each character as we build it\n",
      "        b = []\n",
      "        for _ in range(8):\n",
      "            b.append(num % 2)\n",
      "            num = num / 2\n",
      "        b.reverse()\n",
      "        binlist = binlist + b\n",
      "    return binlist"
     ],
     "language": "python",
     "metadata": {},
     "outputs": [],
     "prompt_number": 2
    },
    {
     "cell_type": "raw",
     "metadata": {},
     "source": [
      "Now we create a queue to hold our incoming data for transmit. DataQueue is a wrapper for a regular FIFO Python queue. If this queue ever goes empty while in the middle of transmitting a burst, <IDLE> characters (0x16) are inserted into the data queue by this class. If there are ever more than 5 of these in a row, the burst is terminated, i.e. DataQueue.empty() will return True."
     ]
    },
    {
     "cell_type": "code",
     "collapsed": false,
     "input": [
      "class DataQueue:\n",
      "    idle_count = 0\n",
      "    q = Queue.Queue()\n",
      "    \n",
      "    def put(self, bit):\n",
      "        self.q.put(bit)\n",
      "        \n",
      "        # reset the <IDLE> count\n",
      "        self.idle_count = 0\n",
      "    \n",
      "    def get(self):\n",
      "        \"\"\"get next bit in the queue. If empty, add <IDLE> bits until 5 consecutive are reached.\"\"\"\n",
      "        if self.q.empty():\n",
      "            if self.idle_count < 5:\n",
      "                self.idle_count = self.idle_count + 1\n",
      "                \n",
      "                # add <IDLE> (0x16) to the queue\n",
      "                idle_byte = [0, 0, 0, 1, 0, 0, 0, 0]\n",
      "                for bit in idle_byte:\n",
      "                    self.q.put(bit)\n",
      "            else:\n",
      "                self.idle_count = 0\n",
      "                \n",
      "        return self.q.get(False)\n",
      "    \n",
      "    def empty(self):\n",
      "        \"\"\"Check if the queue is empty and if it has already sent 5 idle messages in a row\"\"\"\n",
      "        if self.q.empty() and self.idle_count < 5:\n",
      "            return False\n",
      "        elif self.q.empty() and self.idle_count >= 5:\n",
      "            return True\n",
      "        else:\n",
      "            return False"
     ],
     "language": "python",
     "metadata": {},
     "outputs": [],
     "prompt_number": 18
    },
    {
     "cell_type": "raw",
     "metadata": {},
     "source": [
      "Instantiate an object based on this class and run a little experiment."
     ]
    },
    {
     "cell_type": "code",
     "collapsed": false,
     "input": [
      "data_queue = DataQueue()\n",
      "data_queue.put(1)\n",
      "for _ in range(50):\n",
      "    if data_queue.empty():\n",
      "        print(\"empty\")\n",
      "    else:\n",
      "        print(data_queue.get())\n"
     ],
     "language": "python",
     "metadata": {},
     "outputs": [
      {
       "output_type": "stream",
       "stream": "stdout",
       "text": [
        "1\n",
        "0\n",
        "0\n",
        "0\n",
        "1\n",
        "0\n",
        "0\n",
        "0\n",
        "0\n",
        "0\n",
        "0\n",
        "0\n",
        "1\n",
        "0\n",
        "0\n",
        "0\n",
        "0\n",
        "0\n",
        "0\n",
        "0\n",
        "1\n",
        "0\n",
        "0\n",
        "0\n",
        "0\n",
        "0\n",
        "0\n",
        "0\n",
        "1\n",
        "0\n",
        "0\n",
        "0\n",
        "0\n",
        "0\n",
        "0\n",
        "0\n",
        "1\n",
        "0\n",
        "0\n",
        "0\n",
        "0\n",
        "empty\n",
        "empty\n",
        "empty\n",
        "empty\n",
        "empty\n",
        "empty\n",
        "empty\n",
        "empty\n",
        "empty\n"
       ]
      }
     ],
     "prompt_number": 24
    },
    {
     "cell_type": "raw",
     "metadata": {},
     "source": [
      "Here we define a function to add the data to the queue."
     ]
    },
    {
     "cell_type": "code",
     "collapsed": false,
     "input": [
      "def add_data(unicode_string, q):\n",
      "    \"\"\"Usage: add_data(u'a', data_queue)\"\"\"\n",
      "    bits = utf8_to_binlist(unicode_string)\n",
      "    for bit in bits:\n",
      "        q.put(bit)"
     ],
     "language": "python",
     "metadata": {},
     "outputs": [],
     "prompt_number": 23
    },
    {
     "cell_type": "raw",
     "metadata": {},
     "source": [
      "CTM uses a R=1/4 convolutional encoder with K=5. The standard specifies the following generator polynomials:"
     ]
    },
    {
     "cell_type": "code",
     "collapsed": false,
     "input": [
      "g = numpy.array([[1, 0, 1, 0, 1],\n",
      "                 [1, 0, 1, 1, 1],\n",
      "                 [1, 1, 0, 1, 1],\n",
      "                 [1, 1, 1, 1, 1]])"
     ],
     "language": "python",
     "metadata": {},
     "outputs": [],
     "prompt_number": 48
    },
    {
     "cell_type": "raw",
     "metadata": {},
     "source": [
      "Each input bit generates 1/R=4 FEC encoded bits. The initial state of the encoder registers is defined as zero at the start of each burst."
     ]
    },
    {
     "cell_type": "code",
     "collapsed": false,
     "input": [
      "class ConvEncoder:\n",
      "    \n",
      "    def __init__(self, generator):\n",
      "        self.g = generator\n",
      "        self.regs = numpy.array([0, 0, 0, 0, 0])\n",
      "    \n",
      "    def encode(self, input_bits):\n",
      "        encoded_bits = numpy.array([])\n",
      "        \n",
      "        for bit in input_bits:\n",
      "            self.regs = numpy.roll(self.regs, 1)\n",
      "            self.regs[0] = bit\n",
      "            encoded_bits = numpy.concatenate((encoded_bits, numpy.mod(numpy.dot(self.g, self.regs), 2)))\n",
      "    \n",
      "        return encoded_bits\n",
      "    \n",
      "    def flush(self):\n",
      "        return self.encode(numpy.zeros(len(self.regs)-1))\n",
      "    \n",
      "    def clear_regs(self):\n",
      "        self.regs = numpy.array([0, 0, 0, 0, 0])\n",
      "\n",
      "c = ConvEncoder(g)\n",
      "print(c.encode([1, 1]))"
     ],
     "language": "python",
     "metadata": {},
     "outputs": [
      {
       "output_type": "stream",
       "stream": "stdout",
       "text": [
        "[ 1.  1.  1.  1.  1.  1.  0.  0.]\n"
       ]
      }
     ],
     "prompt_number": 52
    },
    {
     "cell_type": "raw",
     "metadata": {},
     "source": [
      "'mute' bits and resync bits are inserted into the FEC output bitstream"
     ]
    },
    {
     "cell_type": "raw",
     "metadata": {},
     "source": [
      "The standard specifies a preamble, which consists of 56 bits:"
     ]
    },
    {
     "cell_type": "code",
     "collapsed": false,
     "input": [
      "s_preamb = numpy.array([\n",
      "                        0, 1, 0, 1, 0, 1, 1, 0, \n",
      "                        0, 1, 1, 0, 1, 1, 1, 0, \n",
      "                        1, 1, 0, 1, 0, 0, 1, 0, \n",
      "                        0, 1, 1, 1, 0, 0, 0, 1,\n",
      "                        0, 1, 1, 1, 1, 0, 0, 1,\n",
      "                        0, 1, 0, 0, 0, 1, 1, 0,\n",
      "                        0, 0, 0, 1, 0, 0, 0, 0\n",
      "                        ])"
     ],
     "language": "python",
     "metadata": {},
     "outputs": [],
     "prompt_number": 100
    },
    {
     "cell_type": "raw",
     "metadata": {},
     "source": [
      "There is also a resync sequence of 32 elements:"
     ]
    },
    {
     "cell_type": "code",
     "collapsed": false,
     "input": [
      "s_resync = numpy.array([\n",
      "                        0, 1, 0, 1, 0, 1, 1, 0,\n",
      "                        0, 1, 1, 0, 1, 1, 1, 0,\n",
      "                        1, 1, 0, 1, 0, 0, 1, 0,\n",
      "                        0, 1, 1, 1, 0, 0, 0, 1\n",
      "                        ])"
     ],
     "language": "python",
     "metadata": {},
     "outputs": [],
     "prompt_number": 101
    },
    {
     "cell_type": "raw",
     "metadata": {},
     "source": [
      "An interleaver is applied to the output bits of the FEC encoder, and after the 'mute' and resync bits are added."
     ]
    },
    {
     "cell_type": "raw",
     "metadata": {},
     "source": [
      "The audio sample rate for the input to the cellular voice channel is 8000 samples per second, and each sample is 13 significant bits left-justified in a 16 bit word."
     ]
    },
    {
     "cell_type": "raw",
     "metadata": {},
     "source": [
      "There are two bits per symbol, and a third \"muted\" state, for a total of 9 possible mappings. Refer to Table 1 of the standard for the 9 possible mappings.\n",
      "\n",
      "The allowed inputs for bit0 and bit1 are {0,1,'mute'}"
     ]
    },
    {
     "cell_type": "code",
     "collapsed": false,
     "input": [
      "def map_symbols(bit0, bit1):\n",
      "    if bit1 == 0:\n",
      "        if bit0 == 0:\n",
      "            return 400\n",
      "        else:\n",
      "            return 800\n",
      "    elif bit1 == 1:\n",
      "        if bit0 == 0:\n",
      "            return 600\n",
      "        else:\n",
      "            return 1000\n",
      "    elif bit1 == 'mute':\n",
      "        if bit0 == 0:\n",
      "            return 600\n",
      "        elif bit0 == 1:\n",
      "            return 1000\n",
      "        else:\n",
      "            return 0"
     ],
     "language": "python",
     "metadata": {},
     "outputs": [],
     "prompt_number": 70
    },
    {
     "cell_type": "raw",
     "metadata": {},
     "source": [
      "The modulator is frequency shift keyed (FSK). Each symbol is 40 samples. The following function builds an array of audio samples, at 8000 samples per second, to transmit. The symbols are delibrately not at maximum value to avoid saturating the input to the channel."
     ]
    },
    {
     "cell_type": "code",
     "collapsed": false,
     "input": [
      "def mod(symbols):\n",
      "    k = numpy.arange(0,40)\n",
      "    out = []\n",
      "    \n",
      "    for f in symbols:\n",
      "        out = numpy.concatenate((out, 8*numpy.round(2047*numpy.sin(2*math.pi*f/8000*k))))\n",
      "    return out"
     ],
     "language": "python",
     "metadata": {},
     "outputs": [],
     "prompt_number": 71
    },
    {
     "cell_type": "raw",
     "metadata": {},
     "source": [
      "We need a helpful function to generate random input symbols."
     ]
    },
    {
     "cell_type": "code",
     "collapsed": false,
     "input": [
      "def generate_ctm_symbols(N):\n",
      "    symbols = numpy.zeros(N)\n",
      "    for i in range(N):\n",
      "        symbols[i] = map_symbols(numpy.random.randint(0,2,1), numpy.random.randint(0,2,1))\n",
      "    return symbols"
     ],
     "language": "python",
     "metadata": {},
     "outputs": [],
     "prompt_number": 72
    },
    {
     "cell_type": "raw",
     "metadata": {},
     "source": [
      "Let's generate 10 random symbols (no muting yet), and then map them to a waveform and plot it."
     ]
    },
    {
     "cell_type": "code",
     "collapsed": false,
     "input": [
      "s = generate_ctm_symbols(10)\n",
      "tx = mod(s)\n",
      "\n",
      "plt.plot(numpy.arange(0,tx.size)/8.0, tx)\n",
      "plt.grid()\n",
      "plt.xlabel('t (ms)')\n",
      "plt.ylabel('Amplitude')\n",
      "plt.title('10 CTM symbols vs time')\n",
      "plt.show()"
     ],
     "language": "python",
     "metadata": {},
     "outputs": [
      {
       "metadata": {},
       "output_type": "display_data",
       "png": "[encoded data removed]",
       "text": [
        "<matplotlib.figure.Figure at 0x10917acd0>"
       ]
      }
     ],
     "prompt_number": 73
    },
    {
     "cell_type": "code",
     "collapsed": false,
     "input": [],
     "language": "python",
     "metadata": {},
     "outputs": []
    }
   ],
   "metadata": {}
  }
 ]
}