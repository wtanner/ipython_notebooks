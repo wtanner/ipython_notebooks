{
 "metadata": {
  "name": ""
 },
 "nbformat": 3,
 "nbformat_minor": 0,
 "worksheets": [
  {
   "cells": [
    {
     "cell_type": "raw",
     "metadata": {},
     "source": [
      "This notebook evaluates the error performance of binary phase shift keying (BPSK) in additive white gaussian noise (AWGN). The calculations will be performed in parallel across N compute nodes.\n",
      "\n",
      "The input to this computation is a vector of signal-to-noise ratios (SNR), expressed in dB."
     ]
    },
    {
     "cell_type": "code",
     "collapsed": false,
     "input": [
      "import numpy\n",
      "import numpy.random"
     ],
     "language": "python",
     "metadata": {},
     "outputs": [],
     "prompt_number": 669
    },
    {
     "cell_type": "raw",
     "metadata": {},
     "source": [
      "We need to define a function that generates a specified number of randomly generated BPSK symbols. Each symbol is one of the set (1,-1)"
     ]
    },
    {
     "cell_type": "code",
     "collapsed": false,
     "input": [
      "def generate_bpsk_symbols(N):\n",
      "    import numpy.random\n",
      "    \n",
      "    symbols = 2*numpy.random.randint(0,2,N)-1\n",
      "    return symbols"
     ],
     "language": "python",
     "metadata": {},
     "outputs": [],
     "prompt_number": 670
    },
    {
     "cell_type": "code",
     "collapsed": false,
     "input": [
      "generate_bpsk_symbols(10)"
     ],
     "language": "python",
     "metadata": {},
     "outputs": [
      {
       "metadata": {},
       "output_type": "pyout",
       "prompt_number": 671,
       "text": [
        "array([-1,  1,  1,  1, -1,  1, -1,  1, -1,  1])"
       ]
      }
     ],
     "prompt_number": 671
    },
    {
     "cell_type": "raw",
     "metadata": {},
     "source": [
      "Next, we need to define a function that is an optimally matched receiver to properly decode the transmitted symbols. Since the allowed symbol values are of equal power and are symmetrically distributed on the real number line and the noise is gaussian distributed with zero mean, we can use a threshold detector around zero as an optimal receiver in AWGN."
     ]
    },
    {
     "cell_type": "code",
     "collapsed": false,
     "input": [
      "def demod_symbols(input_symbols):\n",
      "    import numpy\n",
      "    \n",
      "    output_symbols = numpy.zeros(input_symbols.size)\n",
      "    for i in range(len(input_symbols)):\n",
      "        if input_symbols[i] > 0:\n",
      "            output_symbols[i] = 1\n",
      "        else:\n",
      "            output_symbols[i] = -1\n",
      "    \n",
      "    return output_symbols"
     ],
     "language": "python",
     "metadata": {},
     "outputs": [],
     "prompt_number": 672
    },
    {
     "cell_type": "raw",
     "metadata": {},
     "source": [
      "We need to now create a function to evaluate the number of errors made through the AWGN channel. We compare each transmitted symbol with the reveived symbol."
     ]
    },
    {
     "cell_type": "code",
     "collapsed": false,
     "input": [
      "def compute_ber(tx_symbols, rx_symbols):\n",
      "    import numpy\n",
      "    \n",
      "    return numpy.sum(abs(tx_symbols - rx_symbols)/2.0)/tx_symbols.size"
     ],
     "language": "python",
     "metadata": {},
     "outputs": [],
     "prompt_number": 673
    },
    {
     "cell_type": "raw",
     "metadata": {},
     "source": [
      "A simple check is to see if, in the absense of noise, the error rate is exactly zero"
     ]
    },
    {
     "cell_type": "code",
     "collapsed": false,
     "input": [
      "s_i = generate_bpsk_symbols(10)\n",
      "s_n = demod_symbols(s_i)\n",
      "\n",
      "assert(compute_ber(s_i, s_n) == 0)"
     ],
     "language": "python",
     "metadata": {},
     "outputs": [],
     "prompt_number": 674
    },
    {
     "cell_type": "raw",
     "metadata": {},
     "source": [
      "As a test, if we inject an error it should show up as a non-zero bit error rate. To do that we can change the sign of the first transmitted symbol."
     ]
    },
    {
     "cell_type": "code",
     "collapsed": false,
     "input": [
      "s_n[0] = -s_i[0]\n",
      "compute_ber(s_i, s_n)"
     ],
     "language": "python",
     "metadata": {},
     "outputs": [
      {
       "metadata": {},
       "output_type": "pyout",
       "prompt_number": 675,
       "text": [
        "0.10000000000000001"
       ]
      }
     ],
     "prompt_number": 675
    },
    {
     "cell_type": "raw",
     "metadata": {},
     "source": [
      "Next we need a function to describe the AWGN channel. Since we are interested in the channel SNR, we can specify the added noise as a ratio of symbol energy to noise energy. The NumPy library contains the function 'normal', which provides gaussian distributed numbers with a specified mean and standard deviation."
     ]
    },
    {
     "cell_type": "code",
     "collapsed": false,
     "input": [
      "def awgn(input_symbols, es_no):\n",
      "    import numpy.random\n",
      "    import numpy\n",
      "    \n",
      "    return input_symbols + numpy.random.normal(0, numpy.sqrt(1.0/pow(10,(es_no/10.0))/2.0), input_symbols.size)"
     ],
     "language": "python",
     "metadata": {},
     "outputs": [],
     "prompt_number": 676
    },
    {
     "cell_type": "raw",
     "metadata": {},
     "source": [
      "We can verify that the power of the generated noise is reasonable. i.e. for an Es_No = 0, we should get approximately 1.0 as the noise power if we use enough samples of the process. In this case I picked 100000 samples."
     ]
    },
    {
     "cell_type": "code",
     "collapsed": false,
     "input": [
      "sum(abs(pow(rand.normal(0, np.sqrt(1.0/pow(10,(0/10.0))), 100e3), 2)))/100e3"
     ],
     "language": "python",
     "metadata": {},
     "outputs": [
      {
       "metadata": {},
       "output_type": "pyout",
       "prompt_number": 677,
       "text": [
        "1.0017962794254538"
       ]
      }
     ],
     "prompt_number": 677
    },
    {
     "cell_type": "raw",
     "metadata": {},
     "source": [
      "We need a function that will compute a specified number of symbols at a given Es_No. This will be the engine of our distributed algorithm. It returns a 2-tuple."
     ]
    },
    {
     "cell_type": "code",
     "collapsed": false,
     "input": [
      "def ber_sim(es_no, N):\n",
      "    s_i = generate_bpsk_symbols(N)\n",
      "    s_n = demod_symbols(awgn(s_i, es_no))\n",
      "    \n",
      "    return (es_no, compute_ber(s_i, s_n))"
     ],
     "language": "python",
     "metadata": {},
     "outputs": [],
     "prompt_number": 678
    },
    {
     "cell_type": "code",
     "collapsed": false,
     "input": [
      "ber_sim(0, 100)"
     ],
     "language": "python",
     "metadata": {},
     "outputs": [
      {
       "metadata": {},
       "output_type": "pyout",
       "prompt_number": 679,
       "text": [
        "(0, 0.080000000000000002)"
       ]
      }
     ],
     "prompt_number": 679
    },
    {
     "cell_type": "raw",
     "metadata": {},
     "source": [
      "Start ipcluster start -n 4 and continue. This starts 4 local nodes to serve as a testbed for parallelization."
     ]
    },
    {
     "cell_type": "code",
     "collapsed": false,
     "input": [
      "from IPython.parallel import Client\n",
      "c = Client()\n",
      "c.ids"
     ],
     "language": "python",
     "metadata": {},
     "outputs": [
      {
       "metadata": {},
       "output_type": "pyout",
       "prompt_number": 680,
       "text": [
        "[0, 1, 2, 3]"
       ]
      }
     ],
     "prompt_number": 680
    },
    {
     "cell_type": "raw",
     "metadata": {},
     "source": [
      "This next bit of code includes the libraries we will need on each compute engine."
     ]
    },
    {
     "cell_type": "code",
     "collapsed": false,
     "input": [
      "with c[:].sync_imports():\n",
      "    import numpy\n",
      "    import numpy.random"
     ],
     "language": "python",
     "metadata": {},
     "outputs": [],
     "prompt_number": 665
    },
    {
     "cell_type": "raw",
     "metadata": {},
     "source": [
      "From here, we need to export to all compute engines the locally defined functions we will be using during computation."
     ]
    },
    {
     "cell_type": "code",
     "collapsed": false,
     "input": [
      "export_dict = {k: globals()[k] for k in ('generate_bpsk_symbols', 'demod_symbols', 'awgn', 'compute_ber', 'ber_sim')}\n",
      "c[:].push(export_dict, block=True)"
     ],
     "language": "python",
     "metadata": {},
     "outputs": [
      {
       "metadata": {},
       "output_type": "pyout",
       "prompt_number": 681,
       "text": [
        "[None, None, None, None]"
       ]
      }
     ],
     "prompt_number": 681
    },
    {
     "cell_type": "raw",
     "metadata": {},
     "source": [
      "Next, we execute the task in parallel using the \"map\" construct over a range of Es_No values. The result is collated into a list of tuples."
     ]
    },
    {
     "cell_type": "code",
     "collapsed": false,
     "input": [
      "ber = c[:].map_sync(lambda x: ber_sim(x, 500000), numpy.arange(-2, 10, 0.5))"
     ],
     "language": "python",
     "metadata": {},
     "outputs": [],
     "prompt_number": 682
    },
    {
     "cell_type": "raw",
     "metadata": {},
     "source": [
      "The result is a list of tuples, which we unzip into two lists for plotting."
     ]
    },
    {
     "cell_type": "code",
     "collapsed": false,
     "input": [
      "import matplotlib.pyplot as plt\n",
      "%matplotlib inline\n",
      "\n",
      "x,y = zip(*ber)\n",
      "plt.semilogy(x,y)\n",
      "plt.grid()\n",
      "plt.show()"
     ],
     "language": "python",
     "metadata": {},
     "outputs": [
      {
       "metadata": {},
       "output_type": "display_data",
       "png": "[encoded data removed]",
       "text": [
        "<matplotlib.figure.Figure at 0x10fcc4dd0>"
       ]
      }
     ],
     "prompt_number": 686
    },
    {
     "cell_type": "code",
     "collapsed": false,
     "input": [],
     "language": "python",
     "metadata": {},
     "outputs": []
    }
   ],
   "metadata": {}
  }
 ]
}